{
 "cells": [
  {
   "cell_type": "code",
   "execution_count": 3,
   "metadata": {},
   "outputs": [],
   "source": [
    "# Import necessary modules\n",
    "\n",
    "import pandas"
   ]
  },
  {
   "cell_type": "code",
   "execution_count": 6,
   "metadata": {},
   "outputs": [],
   "source": [
    "# Read in all csv files into variables using pandas module.\n",
    "\n",
    "StarFallC = pandas.read_csv('Star_rating_fall_2015_C_cutoff.csv',encoding='cp1252')\n",
    "StarFallD = pandas.read_csv('Star_rating_fall_2016_D_cutoff.csv',encoding='cp1252')\n",
    "StarFallDom = pandas.read_csv('Star_rating_fall_domain.csv',encoding='cp1252')\n",
    "StarFallHigh = pandas.read_csv('Star_rating_fall_high_performing_plans.csv',encoding='cp1252')\n",
    "StarFallLow = pandas.read_csv('Star_rating_fall_low_performing_plans.csv',encoding='cp1252')\n",
    "StarFallMaster = pandas.read_csv('Star_rating_fall_master data.csv',encoding='cp1252')\n",
    "StarFallFinal = pandas.read_csv('Star_rating_fall_plans_final_star_rating.csv',encoding='cp1252')\n",
    "StarFallSum = pandas.read_csv('Star_rating_fall_summary.csv',encoding='cp1252')\n",
    "StarSprnC =pandas.read_csv('Star_rating_spring_C_cutoff.csv',encoding='cp1252')\n",
    "StarSprnD = pandas.read_csv('Star_rating_spring_D_cutoff.csv',encoding='cp1252')\n",
    "StarSprnDom = pandas.read_csv('Star_rating_spring_domain.csv',encoding='cp1252')\n",
    "StarSprnHigh = pandas.read_csv('Star_rating_spring_final_star_rating.csv',encoding='cp1252')\n",
    "StarSprnLow = pandas.read_csv('Star_rating_spring_high_performing_plans.csv',encoding='cp1252')\n",
    "StarSprnMaster = pandas.read_csv('Star_rating_spring_low_performing_plans.csv',encoding='cp1252')\n",
    "StarSprnFinal = pandas.read_csv('Star_rating_spring_master_data.csv',encoding='cp1252')\n",
    "StarSprnSum = pandas.read_csv('Star_rating_spring_summary.csv',encoding='cp1252')"
   ]
  },
  {
   "cell_type": "code",
   "execution_count": null,
   "metadata": {},
   "outputs": [],
   "source": []
  }
 ],
 "metadata": {
  "kernelspec": {
   "display_name": "Python 3",
   "language": "python",
   "name": "python3"
  },
  "language_info": {
   "codemirror_mode": {
    "name": "ipython",
    "version": 3
   },
   "file_extension": ".py",
   "mimetype": "text/x-python",
   "name": "python",
   "nbconvert_exporter": "python",
   "pygments_lexer": "ipython3",
   "version": "3.8.3"
  }
 },
 "nbformat": 4,
 "nbformat_minor": 4
}
